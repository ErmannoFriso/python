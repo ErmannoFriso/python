{
 "cells": [
  {
   "cell_type": "markdown",
   "id": "8b41463e",
   "metadata": {},
   "source": [
    "# Data Visualization\n",
    "## Import Data"
   ]
  },
  {
   "cell_type": "code",
   "execution_count": 47,
   "id": "786be854",
   "metadata": {},
   "outputs": [],
   "source": [
    "import pandas as pd"
   ]
  },
  {
   "cell_type": "code",
   "execution_count": 29,
   "id": "5e119994",
   "metadata": {},
   "outputs": [],
   "source": [
    "df=pd.read_csv('data/ID7101.2023.PROT00.MC7000.csv', sep = ';', decimal = ',')\n",
    "df"
   ]
  },
  {
   "cell_type": "code",
   "execution_count": 31,
   "id": "2f4bd57a",
   "metadata": {},
   "outputs": [
    {
     "name": "stdout",
     "output_type": "stream",
     "text": [
      "<class 'pandas.core.frame.DataFrame'>\n",
      "RangeIndex: 28 entries, 0 to 27\n",
      "Data columns (total 55 columns):\n",
      " #   Column          Non-Null Count  Dtype  \n",
      "---  ------          --------------  -----  \n",
      " 0   ID_M            28 non-null     int64  \n",
      " 1   ID_C            28 non-null     int64  \n",
      " 2   P               28 non-null     int64  \n",
      " 3   Ev /%           28 non-null     float64\n",
      " 4   Eq /%           28 non-null     object \n",
      " 5   KA              28 non-null     float64\n",
      " 6   Durata /s       28 non-null     int64  \n",
      " 7   V_REF / m/s     28 non-null     float64\n",
      " 8   Q_Ref           28 non-null     float64\n",
      " 9   s(Q_Ref)        28 non-null     float64\n",
      " 10  P_liq_M / MPa   28 non-null     float64\n",
      " 11  P_liq_V / MPa   28 non-null     float64\n",
      " 12  V_REF / dm3     28 non-null     float64\n",
      " 13  P_REF / kg      28 non-null     float64\n",
      " 14  V_Test / dm3    28 non-null     float64\n",
      " 15  Np_Ref          28 non-null     int64  \n",
      " 16  Np_Ref_A        28 non-null     int64  \n",
      " 17  Np_Test         28 non-null     int64  \n",
      " 18  Vp_Ref / dm3    28 non-null     float64\n",
      " 19  Vp_Test /dm3    28 non-null     float64\n",
      " 20  V_test / m/s    28 non-null     int64  \n",
      " 21  Q_Test / m3/h   28 non-null     float64\n",
      " 22  s(Q_Test)       28 non-null     int64  \n",
      " 23  start_time      28 non-null     object \n",
      " 24  stop_time       28 non-null     object \n",
      " 25  T_tcb /s        28 non-null     float64\n",
      " 26  T_tbc /s        28 non-null     float64\n",
      " 27  T_Air_s /°C     28 non-null     float64\n",
      " 28  T_Air_f /°C     28 non-null     float64\n",
      " 29  T_Air_M /°C     28 non-null     float64\n",
      " 30  T_Liq_s /°C     28 non-null     float64\n",
      " 31  T_Liq_f /°C     28 non-null     float64\n",
      " 32  T_Liq_M /°C     28 non-null     float64\n",
      " 33  P_Air_s  /mbar  28 non-null     int64  \n",
      " 34  P_Air_f  /mbar  28 non-null     int64  \n",
      " 35  REF_Q           28 non-null     int64  \n",
      " 36  S_ErrC2         28 non-null     int64  \n",
      " 37  S_flag          28 non-null     int64  \n",
      " 38  SE_flag         28 non-null     int64  \n",
      " 39  C_MxA /dm3      28 non-null     float64\n",
      " 40  C_Mx  /dm3      28 non-null     float64\n",
      " 41  C_B_F  /kg      28 non-null     float64\n",
      " 42  C_B_S  /kg      28 non-null     float64\n",
      " 43  P_B_F  / kg     28 non-null     float64\n",
      " 44  P_B_S /kg       28 non-null     float64\n",
      " 45  T_V             28 non-null     int64  \n",
      " 46  T_M             28 non-null     int64  \n",
      " 47  REF_M           28 non-null     int64  \n",
      " 48  PSel            28 non-null     int64  \n",
      " 49  ERR_Code        28 non-null     int64  \n",
      " 50  S_ErrC1         28 non-null     int64  \n",
      " 51  mA/ V / hz      28 non-null     int64  \n",
      " 52  s(T_liq)        28 non-null     int64  \n",
      " 53  REF             28 non-null     object \n",
      " 54  Unnamed: 54     0 non-null      float64\n",
      "dtypes: float64(28), int64(23), object(4)\n",
      "memory usage: 12.2+ KB\n"
     ]
    }
   ],
   "source": [
    "df.info()"
   ]
  },
  {
   "cell_type": "code",
   "execution_count": null,
   "id": "c0a3b7c0",
   "metadata": {},
   "outputs": [],
   "source": []
  },
  {
   "cell_type": "code",
   "execution_count": null,
   "id": "264d2d78",
   "metadata": {},
   "outputs": [],
   "source": []
  },
  {
   "cell_type": "code",
   "execution_count": null,
   "id": "c2815941",
   "metadata": {},
   "outputs": [],
   "source": []
  },
  {
   "cell_type": "code",
   "execution_count": null,
   "id": "142df78d",
   "metadata": {},
   "outputs": [],
   "source": []
  },
  {
   "cell_type": "code",
   "execution_count": null,
   "id": "8f6acf80",
   "metadata": {},
   "outputs": [],
   "source": []
  }
 ],
 "metadata": {
  "kernelspec": {
   "display_name": "Python 3 (ipykernel)",
   "language": "python",
   "name": "python3"
  },
  "language_info": {
   "codemirror_mode": {
    "name": "ipython",
    "version": 3
   },
   "file_extension": ".py",
   "mimetype": "text/x-python",
   "name": "python",
   "nbconvert_exporter": "python",
   "pygments_lexer": "ipython3",
   "version": "3.11.3"
  }
 },
 "nbformat": 4,
 "nbformat_minor": 5
}
